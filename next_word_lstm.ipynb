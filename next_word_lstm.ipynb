{
 "cells": [
  {
   "cell_type": "markdown",
   "metadata": {},
   "source": [
    "# Project Description : Next WOrd Prediction Using LSTM\n",
    "### Project Description\n",
    "\n",
    "This project aims to develop a deep learning model for predicting the next word in a given sequence of words.\n",
    "The model is built using LSTM network, which are well-suited for sequence prediction tasks. THe project include  the following steps:\n",
    "\n",
    "1.  Data Collection\n",
    "    we use the text of shakespear's \"Hamlet\" as out dataset .The rich, Complex text provides a good challenge for our model.\n",
    "\n",
    "2. Data Preprocessing : The text data is tokenized, Converted into sequence, and padded to ensure uniform input lengths. THe sequence are then split into training and testing sets.\n",
    "\n",
    "3. Model Building : An LSTM model is constructed with an embedding layer, two LSTM layers and a dense output layer with a softmax activation function to predict the probability of the next word.\n",
    "\n",
    "4. Model Training : The model is trained using the prepared sequence, with early stopping implemented to prevent overfitting. Early stopping monitors the  validation loss and stops training when the loss stops improving.\n",
    "\n",
    "5. Model Evaluation : The Mmodel is evaluated using a set of example sentences to test its ability to predict the next word accurately.\n",
    "\n",
    "6. Deployment : A streamlit web application is developed to allow users to input a sequence of words and get the predicted next word in real-time."
   ]
  },
  {
   "cell_type": "code",
   "execution_count": null,
   "metadata": {
    "vscode": {
     "languageId": "plaintext"
    }
   },
   "outputs": [],
   "source": [
    "## Data Collection\n",
    "import nltk\n",
    "nltk.download('gutenberg')\n",
    "from nltk.corpus import gutenberg\n",
    "import pandas as pd"
   ]
  },
  {
   "cell_type": "code",
   "execution_count": null,
   "metadata": {
    "vscode": {
     "languageId": "plaintext"
    }
   },
   "outputs": [],
   "source": [
    "#Load the dataset\n",
    "data = gutenberg.raw('shakespeare-hamlet.txt')\n",
    "\n",
    "## Save to a file \n",
    "with open('hamlet.txt','w') as file :\n",
    "    file.write(data)\n"
   ]
  },
  {
   "cell_type": "code",
   "execution_count": null,
   "metadata": {
    "vscode": {
     "languageId": "plaintext"
    }
   },
   "outputs": [],
   "source": []
  },
  {
   "cell_type": "code",
   "execution_count": null,
   "metadata": {
    "vscode": {
     "languageId": "plaintext"
    }
   },
   "outputs": [],
   "source": []
  }
 ],
 "metadata": {
  "language_info": {
   "name": "python"
  }
 },
 "nbformat": 4,
 "nbformat_minor": 2
}
